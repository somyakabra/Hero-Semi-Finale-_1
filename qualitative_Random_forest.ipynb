import pandas as pd
from sklearn.ensemble import RandomForestClassifier
from sklearn.model_selection import train_test_split
from sklearn.preprocessing import LabelEncoder
from sklearn.metrics import accuracy_score

# Define the data
data = {
    'Average Speed (km/h)': [40, 45, 50, 55, 38, 42, 47, 51],
    'Frequency of Speeding Events': [0, 2, 5, 8, 1, 3, 4, 6],
    'Consistency of Speed Changes': ['High', 'Moderate', 'High', 'Low', 'High', 'Moderate', 'Moderate', 'High'],
    'Vehicle Health': [85, 75, 90, 80, 70, 78, 72, 85],
    'Battery Usage': ['10%', '15%', '5%', '8%', '12%', '11%', '13%', '7%'],
    'Distance Traveled (km)': [20, 30, 35, 40, 18, 22, 25, 32],
    'Usage Patterns': ['-', 'Low', 'High', 'Moderate', 'Low', 'Low', 'Moderate', 'High'],
    'Trip Duration (minutes)': [30, 25, 20, 15, 35, 28, 23, 18],
    'Distance Traveled (km).1': [20, 15, 35, 25, 10, 18, 20, 28],
    'Frequency of Trips': [1, 2, 3, 4, 2, 1, 2, 3],
    'Qualitative Score': ['Moderate', 'Moderate', 'High', 'High', 'Low', 'Moderate', 'Moderate', 'High']
}

# Create DataFrame
df = pd.DataFrame(data)

# Label encode categorical columns
label_encoder = LabelEncoder()
df['Consistency of Speed Changes'] = label_encoder.fit_transform(df['Consistency of Speed Changes'])
df['Battery Usage'] = label_encoder.fit_transform(df['Battery Usage'])
df['Usage Patterns'] = label_encoder.fit_transform(df['Usage Patterns'])
df['Qualitative Score'] = label_encoder.fit_transform(df['Qualitative Score'])

# Split data into features and target variable
X = df.drop('Qualitative Score', axis=1)
y = df['Qualitative Score']

# Split data into train and test sets
X_train, X_test, y_train, y_test = train_test_split(X, y, test_size=0.2, random_state=42)

# Initialize Random Forest classifier
rf_classifier = RandomForestClassifier(n_estimators=100, random_state=42)

# Train the classifier
rf_classifier.fit(X_train, y_train)

# Predict the Qualitative Score
y_pred = rf_classifier.predict(X_test)

# Calculate accuracy
accuracy = accuracy_score(y_test, y_pred)
print("Accuracy:", accuracy)
